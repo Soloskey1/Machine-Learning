{
 "cells": [
  {
   "cell_type": "markdown",
   "id": "2d33ea29-df66-4912-a49c-0d5d4d21a884",
   "metadata": {},
   "source": [
    "# PREDICTING OPEN AND CLOSE PRICE OF BITCOIN WITH RECURRENT NEURAL NETWORK.\n",
    "\n",
    "For this project, i will use High Low, Adj Close, and Volume, to predict Open and CLose prices for BTC-USD"
   ]
  },
  {
   "cell_type": "code",
   "execution_count": 1,
   "id": "a0769903-0d46-4f84-ab0a-3f8d528dd0eb",
   "metadata": {
    "tags": []
   },
   "outputs": [],
   "source": [
    "# import libraries\n",
    "import pandas as pd \n",
    "import numpy as np\n",
    "import matplotlib.pyplot as plt\n",
    "import seaborn as sns\n",
    "import math\n",
    "from sklearn.preprocessing import MinMaxScaler\n",
    "from sklearn.model_selection import train_test_split\n",
    "import random\n",
    "import tensorflow as tf\n",
    "import keras\n",
    "tf.random.set_seed(34)\n",
    "from sklearn import metrics "
   ]
  },
  {
   "cell_type": "code",
   "execution_count": 2,
   "id": "bbcc591a-97c9-4b91-9924-03893f55abe0",
   "metadata": {
    "tags": []
   },
   "outputs": [
    {
     "data": {
      "text/html": [
       "<div>\n",
       "<style scoped>\n",
       "    .dataframe tbody tr th:only-of-type {\n",
       "        vertical-align: middle;\n",
       "    }\n",
       "\n",
       "    .dataframe tbody tr th {\n",
       "        vertical-align: top;\n",
       "    }\n",
       "\n",
       "    .dataframe thead th {\n",
       "        text-align: right;\n",
       "    }\n",
       "</style>\n",
       "<table border=\"1\" class=\"dataframe\">\n",
       "  <thead>\n",
       "    <tr style=\"text-align: right;\">\n",
       "      <th></th>\n",
       "      <th>Date</th>\n",
       "      <th>Open</th>\n",
       "      <th>High</th>\n",
       "      <th>Low</th>\n",
       "      <th>Close</th>\n",
       "      <th>Adj Close</th>\n",
       "      <th>Volume</th>\n",
       "    </tr>\n",
       "  </thead>\n",
       "  <tbody>\n",
       "    <tr>\n",
       "      <th>0</th>\n",
       "      <td>2014-09-17</td>\n",
       "      <td>465.864014</td>\n",
       "      <td>468.174011</td>\n",
       "      <td>452.421997</td>\n",
       "      <td>457.334015</td>\n",
       "      <td>457.334015</td>\n",
       "      <td>21056800</td>\n",
       "    </tr>\n",
       "    <tr>\n",
       "      <th>1</th>\n",
       "      <td>2014-09-18</td>\n",
       "      <td>456.859985</td>\n",
       "      <td>456.859985</td>\n",
       "      <td>413.104004</td>\n",
       "      <td>424.440002</td>\n",
       "      <td>424.440002</td>\n",
       "      <td>34483200</td>\n",
       "    </tr>\n",
       "    <tr>\n",
       "      <th>2</th>\n",
       "      <td>2014-09-19</td>\n",
       "      <td>424.102997</td>\n",
       "      <td>427.834991</td>\n",
       "      <td>384.532013</td>\n",
       "      <td>394.795990</td>\n",
       "      <td>394.795990</td>\n",
       "      <td>37919700</td>\n",
       "    </tr>\n",
       "    <tr>\n",
       "      <th>3</th>\n",
       "      <td>2014-09-20</td>\n",
       "      <td>394.673004</td>\n",
       "      <td>423.295990</td>\n",
       "      <td>389.882996</td>\n",
       "      <td>408.903992</td>\n",
       "      <td>408.903992</td>\n",
       "      <td>36863600</td>\n",
       "    </tr>\n",
       "    <tr>\n",
       "      <th>4</th>\n",
       "      <td>2014-09-21</td>\n",
       "      <td>408.084991</td>\n",
       "      <td>412.425995</td>\n",
       "      <td>393.181000</td>\n",
       "      <td>398.821014</td>\n",
       "      <td>398.821014</td>\n",
       "      <td>26580100</td>\n",
       "    </tr>\n",
       "    <tr>\n",
       "      <th>5</th>\n",
       "      <td>2014-09-22</td>\n",
       "      <td>399.100006</td>\n",
       "      <td>406.915985</td>\n",
       "      <td>397.130005</td>\n",
       "      <td>402.152008</td>\n",
       "      <td>402.152008</td>\n",
       "      <td>24127600</td>\n",
       "    </tr>\n",
       "    <tr>\n",
       "      <th>6</th>\n",
       "      <td>2014-09-23</td>\n",
       "      <td>402.092010</td>\n",
       "      <td>441.557007</td>\n",
       "      <td>396.196991</td>\n",
       "      <td>435.790985</td>\n",
       "      <td>435.790985</td>\n",
       "      <td>45099500</td>\n",
       "    </tr>\n",
       "    <tr>\n",
       "      <th>7</th>\n",
       "      <td>2014-09-24</td>\n",
       "      <td>435.751007</td>\n",
       "      <td>436.112000</td>\n",
       "      <td>421.131989</td>\n",
       "      <td>423.204987</td>\n",
       "      <td>423.204987</td>\n",
       "      <td>30627700</td>\n",
       "    </tr>\n",
       "    <tr>\n",
       "      <th>8</th>\n",
       "      <td>2014-09-25</td>\n",
       "      <td>423.156006</td>\n",
       "      <td>423.519989</td>\n",
       "      <td>409.467987</td>\n",
       "      <td>411.574005</td>\n",
       "      <td>411.574005</td>\n",
       "      <td>26814400</td>\n",
       "    </tr>\n",
       "    <tr>\n",
       "      <th>9</th>\n",
       "      <td>2014-09-26</td>\n",
       "      <td>411.428986</td>\n",
       "      <td>414.937988</td>\n",
       "      <td>400.009003</td>\n",
       "      <td>404.424988</td>\n",
       "      <td>404.424988</td>\n",
       "      <td>21460800</td>\n",
       "    </tr>\n",
       "  </tbody>\n",
       "</table>\n",
       "</div>"
      ],
      "text/plain": [
       "         Date        Open        High         Low       Close   Adj Close  \\\n",
       "0  2014-09-17  465.864014  468.174011  452.421997  457.334015  457.334015   \n",
       "1  2014-09-18  456.859985  456.859985  413.104004  424.440002  424.440002   \n",
       "2  2014-09-19  424.102997  427.834991  384.532013  394.795990  394.795990   \n",
       "3  2014-09-20  394.673004  423.295990  389.882996  408.903992  408.903992   \n",
       "4  2014-09-21  408.084991  412.425995  393.181000  398.821014  398.821014   \n",
       "5  2014-09-22  399.100006  406.915985  397.130005  402.152008  402.152008   \n",
       "6  2014-09-23  402.092010  441.557007  396.196991  435.790985  435.790985   \n",
       "7  2014-09-24  435.751007  436.112000  421.131989  423.204987  423.204987   \n",
       "8  2014-09-25  423.156006  423.519989  409.467987  411.574005  411.574005   \n",
       "9  2014-09-26  411.428986  414.937988  400.009003  404.424988  404.424988   \n",
       "\n",
       "     Volume  \n",
       "0  21056800  \n",
       "1  34483200  \n",
       "2  37919700  \n",
       "3  36863600  \n",
       "4  26580100  \n",
       "5  24127600  \n",
       "6  45099500  \n",
       "7  30627700  \n",
       "8  26814400  \n",
       "9  21460800  "
      ]
     },
     "execution_count": 2,
     "metadata": {},
     "output_type": "execute_result"
    }
   ],
   "source": [
    "# import libraries\n",
    "df = pd.read_csv('BTC-USD.csv')\n",
    "df.head(10)"
   ]
  },
  {
   "cell_type": "code",
   "execution_count": 3,
   "id": "2847a773-88f3-4222-a41e-b6c327a4ca69",
   "metadata": {
    "tags": []
   },
   "outputs": [
    {
     "name": "stdout",
     "output_type": "stream",
     "text": [
      "<class 'pandas.core.frame.DataFrame'>\n",
      "RangeIndex: 2747 entries, 0 to 2746\n",
      "Data columns (total 7 columns):\n",
      " #   Column     Non-Null Count  Dtype  \n",
      "---  ------     --------------  -----  \n",
      " 0   Date       2747 non-null   object \n",
      " 1   Open       2747 non-null   float64\n",
      " 2   High       2747 non-null   float64\n",
      " 3   Low        2747 non-null   float64\n",
      " 4   Close      2747 non-null   float64\n",
      " 5   Adj Close  2747 non-null   float64\n",
      " 6   Volume     2747 non-null   int64  \n",
      "dtypes: float64(5), int64(1), object(1)\n",
      "memory usage: 150.4+ KB\n"
     ]
    }
   ],
   "source": [
    "# data information \n",
    "df.info()"
   ]
  },
  {
   "cell_type": "markdown",
   "id": "d8750f99-c127-4260-9633-c854cb9ed180",
   "metadata": {
    "tags": []
   },
   "source": [
    "# DATA PROCESSING "
   ]
  },
  {
   "cell_type": "code",
   "execution_count": 4,
   "id": "87adaa70-f501-44c3-9c12-1197fffe7ba4",
   "metadata": {
    "tags": []
   },
   "outputs": [
    {
     "data": {
      "text/plain": [
       "Date         0\n",
       "Open         0\n",
       "High         0\n",
       "Low          0\n",
       "Close        0\n",
       "Adj Close    0\n",
       "Volume       0\n",
       "dtype: int64"
      ]
     },
     "execution_count": 4,
     "metadata": {},
     "output_type": "execute_result"
    }
   ],
   "source": [
    "# sanity-check for missng values \n",
    "df.isna().sum()"
   ]
  },
  {
   "cell_type": "code",
   "execution_count": 5,
   "id": "308f19e9-24c7-43cb-9afb-bb96225900ec",
   "metadata": {
    "tags": []
   },
   "outputs": [],
   "source": [
    "# drop date column\n",
    "df.drop('Date', axis=1, inplace=True)"
   ]
  },
  {
   "cell_type": "code",
   "execution_count": 6,
   "id": "b14cc36b-ed28-4cbf-be35-b3c22b87256b",
   "metadata": {
    "tags": []
   },
   "outputs": [],
   "source": [
    "# scale data \n",
    "scaler = MinMaxScaler(feature_range=(0,1))\n",
    "scaled_df = scaler.fit_transform(df.to_numpy())\n",
    "scaled_df = pd.DataFrame(scaled_df, columns = list(df.columns))"
   ]
  },
  {
   "cell_type": "code",
   "execution_count": 7,
   "id": "5536854e-0479-4ab4-b83a-be6723427b13",
   "metadata": {
    "tags": []
   },
   "outputs": [],
   "source": [
    "# split data \n",
    "trainData = scaled_df[['High', 'Low', 'Adj Close', 'Volume']]\n",
    "testData = scaled_df[['Open', 'Close']]\n",
    "\n",
    "\n",
    "#size - 80:20 split\n",
    "xTrain, xTest, yTrain, yTest = train_test_split(trainData, testData, random_state=130, train_size=0.8, shuffle=True)"
   ]
  },
  {
   "cell_type": "code",
   "execution_count": 8,
   "id": "8f2ac7aa-8d47-40bc-8ab2-8e973a3bb2bf",
   "metadata": {
    "tags": []
   },
   "outputs": [
    {
     "name": "stdout",
     "output_type": "stream",
     "text": [
      "(2197, 4) (550, 2)\n"
     ]
    }
   ],
   "source": [
    "# size of splits\n",
    "print(xTrain.shape, yTest.shape)"
   ]
  },
  {
   "cell_type": "code",
   "execution_count": 11,
   "id": "c38e7d8e-bd23-4466-8be2-e25d25897fc7",
   "metadata": {
    "tags": []
   },
   "outputs": [],
   "source": [
    "# reshape data to be suitable for modelling \n",
    "xTrain, xTest, yTrain, yTest  = np.array(xTrain), np.array(xTest), np.array(yTrain), np.array(yTest)"
   ]
  },
  {
   "cell_type": "code",
   "execution_count": 25,
   "id": "367a6cbe-e3ab-4f58-b9ce-8f8b7a6c6482",
   "metadata": {
    "tags": []
   },
   "outputs": [
    {
     "data": {
      "text/plain": [
       "(550, 4)"
      ]
     },
     "execution_count": 25,
     "metadata": {},
     "output_type": "execute_result"
    }
   ],
   "source": [
    "xTest.shape"
   ]
  },
  {
   "cell_type": "code",
   "execution_count": 28,
   "id": "ae140fd7-6424-4f6b-b0d1-f51274b9dbe1",
   "metadata": {
    "tags": []
   },
   "outputs": [],
   "source": [
    "# reshape data \n",
    "xTrain = xTrain.reshape((2197, 1, 4))"
   ]
  },
  {
   "cell_type": "markdown",
   "id": "6410a06f-6bce-4b12-b632-a990569f3e0d",
   "metadata": {},
   "source": [
    "# Modelling "
   ]
  },
  {
   "cell_type": "code",
   "execution_count": 22,
   "id": "cb457985-c4a2-4d74-b5b3-363976655ff9",
   "metadata": {
    "tags": []
   },
   "outputs": [
    {
     "name": "stdout",
     "output_type": "stream",
     "text": [
      "Model: \"sequential_5\"\n",
      "_________________________________________________________________\n",
      " Layer (type)                Output Shape              Param #   \n",
      "=================================================================\n",
      " simple_rnn_5 (SimpleRNN)    (None, 50)                2750      \n",
      "                                                                 \n",
      " dropout_3 (Dropout)         (None, 50)                0         \n",
      "                                                                 \n",
      " dense_2 (Dense)             (None, 2)                 102       \n",
      "                                                                 \n",
      "=================================================================\n",
      "Total params: 2,852\n",
      "Trainable params: 2,852\n",
      "Non-trainable params: 0\n",
      "_________________________________________________________________\n"
     ]
    }
   ],
   "source": [
    "# rnn \n",
    "reg = keras.Sequential()\n",
    "\n",
    "# add RNN layers\n",
    "reg.add(keras.layers.SimpleRNN(units = 50, input_shape=(1,4), activation='relu'))\n",
    "# add droput\n",
    "reg.add(keras.layers.Dropout(0.2))\n",
    "\n",
    "# output\n",
    "reg.add(keras.layers.Dense(2, activation='linear'))\n",
    "\n",
    "# compile\n",
    "reg.compile(loss='MeanSquaredError', metrics =['MAE'])\n",
    "reg.summary()"
   ]
  },
  {
   "cell_type": "code",
   "execution_count": 29,
   "id": "f1bc8fc2-a9ca-491f-b61c-a19e6e5147dc",
   "metadata": {
    "tags": []
   },
   "outputs": [
    {
     "name": "stdout",
     "output_type": "stream",
     "text": [
      "Epoch 1/10\n",
      "69/69 [==============================] - 0s 5ms/step - loss: 0.0012 - MAE: 0.0199\n",
      "Epoch 2/10\n",
      "69/69 [==============================] - 0s 6ms/step - loss: 0.0012 - MAE: 0.0196\n",
      "Epoch 3/10\n",
      "69/69 [==============================] - 0s 7ms/step - loss: 0.0013 - MAE: 0.0197\n",
      "Epoch 4/10\n",
      "69/69 [==============================] - 1s 12ms/step - loss: 0.0013 - MAE: 0.0198\n",
      "Epoch 5/10\n",
      "69/69 [==============================] - 0s 6ms/step - loss: 0.0013 - MAE: 0.0202\n",
      "Epoch 6/10\n",
      "69/69 [==============================] - 1s 8ms/step - loss: 0.0012 - MAE: 0.0190\n",
      "Epoch 7/10\n",
      "69/69 [==============================] - 1s 8ms/step - loss: 0.0014 - MAE: 0.0204\n",
      "Epoch 8/10\n",
      "69/69 [==============================] - 0s 5ms/step - loss: 0.0012 - MAE: 0.0192\n",
      "Epoch 9/10\n",
      "69/69 [==============================] - 0s 7ms/step - loss: 0.0012 - MAE: 0.0190\n",
      "Epoch 10/10\n",
      "69/69 [==============================] - 0s 5ms/step - loss: 0.0012 - MAE: 0.0195\n"
     ]
    },
    {
     "data": {
      "text/plain": [
       "<keras.callbacks.History at 0x264d3557610>"
      ]
     },
     "execution_count": 29,
     "metadata": {},
     "output_type": "execute_result"
    }
   ],
   "source": [
    "# fit model \n",
    "reg.fit(xTrain, yTrain, epochs = 10, batch_size=32)"
   ]
  },
  {
   "cell_type": "markdown",
   "id": "7fed61fb-65f1-4167-92a4-20cdd2bed669",
   "metadata": {},
   "source": [
    "We got a loss of 0.0012 and MAE of 0.0195, pretty good."
   ]
  },
  {
   "cell_type": "code",
   "execution_count": 31,
   "id": "95e0290d-d094-4847-9794-1a586410cb49",
   "metadata": {
    "tags": []
   },
   "outputs": [
    {
     "name": "stdout",
     "output_type": "stream",
     "text": [
      "18/18 [==============================] - 0s 5ms/step\n"
     ]
    }
   ],
   "source": [
    "# make prediction \n",
    "prediction = reg.predict(xTest)"
   ]
  },
  {
   "cell_type": "code",
   "execution_count": 33,
   "id": "351146f2-8f61-4336-9c51-4b1514ecf2a9",
   "metadata": {
    "tags": []
   },
   "outputs": [
    {
     "name": "stdout",
     "output_type": "stream",
     "text": [
      "Mean Squared Error on the test is: 0.00015290043913546083\n"
     ]
    }
   ],
   "source": [
    "# mse\n",
    "mse = metrics.mean_squared_error(yTest, prediction)\n",
    "print(f'Mean Squared Error on the test is: {mse}')"
   ]
  },
  {
   "cell_type": "markdown",
   "id": "681f9181-9ffd-4ac1-89ec-884284a4711d",
   "metadata": {},
   "source": [
    "The model demonstrated strong performance in predicting Bitcoin's open and close prices, achieving a Mean Squared Error (MSE) of 0.00015. This low MSE indicates that the predictions closely align with actual prices, underscoring the model's accuracy and reliability. Such performance is particularly beneficial for traders and investors who depend on precise price forecasting for their decision-making processes."
   ]
  },
  {
   "cell_type": "code",
   "execution_count": null,
   "id": "5e6f6f38-847d-4188-9eda-d09c967d143a",
   "metadata": {},
   "outputs": [],
   "source": []
  }
 ],
 "metadata": {
  "kernelspec": {
   "display_name": "Python 3 (ipykernel)",
   "language": "python",
   "name": "python3"
  },
  "language_info": {
   "codemirror_mode": {
    "name": "ipython",
    "version": 3
   },
   "file_extension": ".py",
   "mimetype": "text/x-python",
   "name": "python",
   "nbconvert_exporter": "python",
   "pygments_lexer": "ipython3",
   "version": "3.10.9"
  }
 },
 "nbformat": 4,
 "nbformat_minor": 5
}
